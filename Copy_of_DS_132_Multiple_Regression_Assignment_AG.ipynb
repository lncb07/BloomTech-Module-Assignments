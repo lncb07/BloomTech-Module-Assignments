{
  "cells": [
    {
      "cell_type": "markdown",
      "metadata": {
        "id": "RQw2GTc8oDRw"
      },
      "source": [
        "# Data Science - Unit 1 Sprint 3 Module 2\n",
        "\n",
        "## Module Project: Multiple Linear Regression\n",
        "\n",
        "### Learning Objectives\n",
        "\n",
        "* model the relationship of multiple predictor variables to a single outcome\n",
        "* conduct a t-test to determine the significance of individual variables in the model\n",
        "* compare model fit using R-squared\n",
        "\n",
        "### Total notebook points: 13"
      ]
    },
    {
      "cell_type": "markdown",
      "metadata": {
        "id": "MHWnltybtm8_"
      },
      "source": [
        "## Part A: Introduction\n",
        "\n",
        "### Statistical significance between head size and brain weight in healthy adult humans\n",
        "\n",
        "The `Brainhead.csv` dataset provides information on 237 individuals who were subject to post-mortem examination at the Middlesex Hospital in London around the turn of the 20th century. Study authors used cadavers to see if a relationship between brain weight and other more easily measured physiological characterizes such as age, sex, and head size could be determined. The end goal was to develop a way to estimate a person’s brain size while they were still alive (as the living aren’t keen on having their brains taken out and weighed).\n",
        "\n",
        "**We wish to determine if we can improve on our model of the linear relationship between head size and brain weight in healthy human adults.**\n",
        "\n",
        "Source: R.J. Gladstone (1905). \"A Study of the Relations of the Brain to the Size of the Head\", Biometrika, Vol. 4, pp105-123.\n",
        "\n",
        "### Use the above information to complete the following tasks."
      ]
    },
    {
      "cell_type": "markdown",
      "metadata": {
        "id": "HCdydDBSxKLL"
      },
      "source": [
        "**Task 1** - Load the data\n",
        "\n",
        "Let's load the data! The URL has been provided as well as the imports for pandas and numpy.\n",
        "\n",
        "* load your CSV file into a DataFrame named `df`"
      ]
    },
    {
      "cell_type": "code",
      "execution_count": 1,
      "metadata": {
        "colab": {
          "base_uri": "https://localhost:8080/",
          "height": 206
        },
        "deletable": false,
        "id": "0NKz1DvXQHqq",
        "nbgrader": {
          "cell_type": "code",
          "checksum": "7e62c4220847f690fff7fc7bcc2458b9",
          "grade": false,
          "grade_id": "cell-0434f06199d1ad11",
          "locked": false,
          "schema_version": 3,
          "solution": true,
          "task": false
        },
        "outputId": "66f03070-a0b9-4ccc-9e04-5bcf2e7ebd1f"
      },
      "outputs": [
        {
          "output_type": "execute_result",
          "data": {
            "text/plain": [
              "   Gender  Age  Head  Brain\n",
              "0       1    1  4512   1530\n",
              "1       1    1  3738   1297\n",
              "2       1    1  4261   1335\n",
              "3       1    1  3777   1282\n",
              "4       1    1  4177   1590"
            ],
            "text/html": [
              "\n",
              "  <div id=\"df-d1ebe743-01d8-47d1-9f15-11b0fcb730e7\">\n",
              "    <div class=\"colab-df-container\">\n",
              "      <div>\n",
              "<style scoped>\n",
              "    .dataframe tbody tr th:only-of-type {\n",
              "        vertical-align: middle;\n",
              "    }\n",
              "\n",
              "    .dataframe tbody tr th {\n",
              "        vertical-align: top;\n",
              "    }\n",
              "\n",
              "    .dataframe thead th {\n",
              "        text-align: right;\n",
              "    }\n",
              "</style>\n",
              "<table border=\"1\" class=\"dataframe\">\n",
              "  <thead>\n",
              "    <tr style=\"text-align: right;\">\n",
              "      <th></th>\n",
              "      <th>Gender</th>\n",
              "      <th>Age</th>\n",
              "      <th>Head</th>\n",
              "      <th>Brain</th>\n",
              "    </tr>\n",
              "  </thead>\n",
              "  <tbody>\n",
              "    <tr>\n",
              "      <th>0</th>\n",
              "      <td>1</td>\n",
              "      <td>1</td>\n",
              "      <td>4512</td>\n",
              "      <td>1530</td>\n",
              "    </tr>\n",
              "    <tr>\n",
              "      <th>1</th>\n",
              "      <td>1</td>\n",
              "      <td>1</td>\n",
              "      <td>3738</td>\n",
              "      <td>1297</td>\n",
              "    </tr>\n",
              "    <tr>\n",
              "      <th>2</th>\n",
              "      <td>1</td>\n",
              "      <td>1</td>\n",
              "      <td>4261</td>\n",
              "      <td>1335</td>\n",
              "    </tr>\n",
              "    <tr>\n",
              "      <th>3</th>\n",
              "      <td>1</td>\n",
              "      <td>1</td>\n",
              "      <td>3777</td>\n",
              "      <td>1282</td>\n",
              "    </tr>\n",
              "    <tr>\n",
              "      <th>4</th>\n",
              "      <td>1</td>\n",
              "      <td>1</td>\n",
              "      <td>4177</td>\n",
              "      <td>1590</td>\n",
              "    </tr>\n",
              "  </tbody>\n",
              "</table>\n",
              "</div>\n",
              "      <button class=\"colab-df-convert\" onclick=\"convertToInteractive('df-d1ebe743-01d8-47d1-9f15-11b0fcb730e7')\"\n",
              "              title=\"Convert this dataframe to an interactive table.\"\n",
              "              style=\"display:none;\">\n",
              "        \n",
              "  <svg xmlns=\"http://www.w3.org/2000/svg\" height=\"24px\"viewBox=\"0 0 24 24\"\n",
              "       width=\"24px\">\n",
              "    <path d=\"M0 0h24v24H0V0z\" fill=\"none\"/>\n",
              "    <path d=\"M18.56 5.44l.94 2.06.94-2.06 2.06-.94-2.06-.94-.94-2.06-.94 2.06-2.06.94zm-11 1L8.5 8.5l.94-2.06 2.06-.94-2.06-.94L8.5 2.5l-.94 2.06-2.06.94zm10 10l.94 2.06.94-2.06 2.06-.94-2.06-.94-.94-2.06-.94 2.06-2.06.94z\"/><path d=\"M17.41 7.96l-1.37-1.37c-.4-.4-.92-.59-1.43-.59-.52 0-1.04.2-1.43.59L10.3 9.45l-7.72 7.72c-.78.78-.78 2.05 0 2.83L4 21.41c.39.39.9.59 1.41.59.51 0 1.02-.2 1.41-.59l7.78-7.78 2.81-2.81c.8-.78.8-2.07 0-2.86zM5.41 20L4 18.59l7.72-7.72 1.47 1.35L5.41 20z\"/>\n",
              "  </svg>\n",
              "      </button>\n",
              "      \n",
              "  <style>\n",
              "    .colab-df-container {\n",
              "      display:flex;\n",
              "      flex-wrap:wrap;\n",
              "      gap: 12px;\n",
              "    }\n",
              "\n",
              "    .colab-df-convert {\n",
              "      background-color: #E8F0FE;\n",
              "      border: none;\n",
              "      border-radius: 50%;\n",
              "      cursor: pointer;\n",
              "      display: none;\n",
              "      fill: #1967D2;\n",
              "      height: 32px;\n",
              "      padding: 0 0 0 0;\n",
              "      width: 32px;\n",
              "    }\n",
              "\n",
              "    .colab-df-convert:hover {\n",
              "      background-color: #E2EBFA;\n",
              "      box-shadow: 0px 1px 2px rgba(60, 64, 67, 0.3), 0px 1px 3px 1px rgba(60, 64, 67, 0.15);\n",
              "      fill: #174EA6;\n",
              "    }\n",
              "\n",
              "    [theme=dark] .colab-df-convert {\n",
              "      background-color: #3B4455;\n",
              "      fill: #D2E3FC;\n",
              "    }\n",
              "\n",
              "    [theme=dark] .colab-df-convert:hover {\n",
              "      background-color: #434B5C;\n",
              "      box-shadow: 0px 1px 3px 1px rgba(0, 0, 0, 0.15);\n",
              "      filter: drop-shadow(0px 1px 2px rgba(0, 0, 0, 0.3));\n",
              "      fill: #FFFFFF;\n",
              "    }\n",
              "  </style>\n",
              "\n",
              "      <script>\n",
              "        const buttonEl =\n",
              "          document.querySelector('#df-d1ebe743-01d8-47d1-9f15-11b0fcb730e7 button.colab-df-convert');\n",
              "        buttonEl.style.display =\n",
              "          google.colab.kernel.accessAllowed ? 'block' : 'none';\n",
              "\n",
              "        async function convertToInteractive(key) {\n",
              "          const element = document.querySelector('#df-d1ebe743-01d8-47d1-9f15-11b0fcb730e7');\n",
              "          const dataTable =\n",
              "            await google.colab.kernel.invokeFunction('convertToInteractive',\n",
              "                                                     [key], {});\n",
              "          if (!dataTable) return;\n",
              "\n",
              "          const docLinkHtml = 'Like what you see? Visit the ' +\n",
              "            '<a target=\"_blank\" href=https://colab.research.google.com/notebooks/data_table.ipynb>data table notebook</a>'\n",
              "            + ' to learn more about interactive tables.';\n",
              "          element.innerHTML = '';\n",
              "          dataTable['output_type'] = 'display_data';\n",
              "          await google.colab.output.renderOutput(dataTable, element);\n",
              "          const docLink = document.createElement('div');\n",
              "          docLink.innerHTML = docLinkHtml;\n",
              "          element.appendChild(docLink);\n",
              "        }\n",
              "      </script>\n",
              "    </div>\n",
              "  </div>\n",
              "  "
            ]
          },
          "metadata": {},
          "execution_count": 1
        }
      ],
      "source": [
        "# Task 1\n",
        "\n",
        "import pandas as pd\n",
        "import numpy as np\n",
        "\n",
        "data_url = 'https://raw.githubusercontent.com/bloominstituteoftechnology/data-science-practice-datasets/main/unit_1/Brainhead/Brainhead.csv'\n",
        "\n",
        "# YOUR CODE HERE\n",
        "df=pd.read_csv(data_url)\n",
        "\n",
        "# Print out your DataFrame\n",
        "df.head()"
      ]
    },
    {
      "cell_type": "code",
      "execution_count": 2,
      "metadata": {
        "deletable": false,
        "editable": false,
        "id": "28oXofQSxKLN",
        "nbgrader": {
          "cell_type": "code",
          "checksum": "94e9bf1f2fbcc5bcb864d5a79a80f518",
          "grade": true,
          "grade_id": "cell-1c36b133f6ac028d",
          "locked": true,
          "points": 1,
          "schema_version": 3,
          "solution": false,
          "task": false
        }
      },
      "outputs": [],
      "source": [
        "# Task 1 - Test\n",
        "\n",
        "assert isinstance(df, pd.DataFrame), 'Have you created a DataFrame named `df`?'\n",
        "assert len(df) == 237\n"
      ]
    },
    {
      "cell_type": "markdown",
      "metadata": {
        "id": "4eJsXuRLxKrz"
      },
      "source": [
        "**Task 2** - Fit OLS Model\n",
        "\n",
        "Run the OLS model relating head size to brain weight - you should have done this in your project yesterday. The `statsmodels.formula.api` import has been provided. After you fit your model, print out your model results.\n",
        "\n",
        "* Fit an OLS model and name your variable `model`.\n",
        "\n",
        "*Hint: Make sure to use the format Y ~ X*"
      ]
    },
    {
      "cell_type": "code",
      "execution_count": 3,
      "metadata": {
        "deletable": false,
        "id": "c9qyMXd_Hh6l",
        "nbgrader": {
          "cell_type": "code",
          "checksum": "3001d5d99a7f292e111911ab479362ef",
          "grade": false,
          "grade_id": "cell-2aa2fa6eba350a2c",
          "locked": false,
          "schema_version": 3,
          "solution": true,
          "task": false
        },
        "colab": {
          "base_uri": "https://localhost:8080/"
        },
        "outputId": "dc8c331f-bf75-4780-e3d3-12d2a9ed53d5"
      },
      "outputs": [
        {
          "output_type": "stream",
          "name": "stdout",
          "text": [
            "                            OLS Regression Results                            \n",
            "==============================================================================\n",
            "Dep. Variable:                  Brain   R-squared:                       0.639\n",
            "Model:                            OLS   Adj. R-squared:                  0.638\n",
            "Method:                 Least Squares   F-statistic:                     416.5\n",
            "Date:                Mon, 09 Jan 2023   Prob (F-statistic):           5.96e-54\n",
            "Time:                        04:22:07   Log-Likelihood:                -1350.3\n",
            "No. Observations:                 237   AIC:                             2705.\n",
            "Df Residuals:                     235   BIC:                             2711.\n",
            "Df Model:                           1                                         \n",
            "Covariance Type:            nonrobust                                         \n",
            "==============================================================================\n",
            "                 coef    std err          t      P>|t|      [0.025      0.975]\n",
            "------------------------------------------------------------------------------\n",
            "Intercept    325.5734     47.141      6.906      0.000     232.701     418.446\n",
            "Head           0.2634      0.013     20.409      0.000       0.238       0.289\n",
            "==============================================================================\n",
            "Omnibus:                        8.329   Durbin-Watson:                   1.843\n",
            "Prob(Omnibus):                  0.016   Jarque-Bera (JB):                8.665\n",
            "Skew:                           0.366   Prob(JB):                       0.0131\n",
            "Kurtosis:                       3.584   Cond. No.                     3.66e+04\n",
            "==============================================================================\n",
            "\n",
            "Notes:\n",
            "[1] Standard Errors assume that the covariance matrix of the errors is correctly specified.\n",
            "[2] The condition number is large, 3.66e+04. This might indicate that there are\n",
            "strong multicollinearity or other numerical problems.\n"
          ]
        }
      ],
      "source": [
        "# Task 2\n",
        "\n",
        "# Import statsmodels - DON'T Delete\n",
        "from statsmodels.formula.api import ols\n",
        "\n",
        "# Model input format\n",
        "# format Y ~ X\n",
        "\n",
        "# YOUR CODE HERE\n",
        "model=ols('Brain~Head',data=df).fit()\n",
        "\n",
        "# Print the model summary\n",
        "print(model.summary())"
      ]
    },
    {
      "cell_type": "code",
      "execution_count": 4,
      "metadata": {
        "deletable": false,
        "editable": false,
        "id": "2Z8fWgSCxKLN",
        "nbgrader": {
          "cell_type": "code",
          "checksum": "5f89e20a472e94b28813e9c2678242d7",
          "grade": true,
          "grade_id": "cell-bb49143b30a4fcee",
          "locked": true,
          "points": 1,
          "schema_version": 3,
          "solution": false,
          "task": false
        }
      },
      "outputs": [],
      "source": [
        "# Task 2 - Test\n",
        "# Hidden tests - you will see the results when you submit to Canvas"
      ]
    },
    {
      "cell_type": "markdown",
      "metadata": {
        "id": "y21TW4n67mNq"
      },
      "source": [
        "**Task 3** - Adjusted $R^2$\n",
        "\n",
        "Using your model summary, what is the adjusted $R^2$ for this model?  \n",
        "\n",
        "* Assign the value of adjusted $R^2$ to the variable `adj_R2` (use three decimal places, e.g. 0.123). Your variable should be a float."
      ]
    },
    {
      "cell_type": "code",
      "execution_count": 7,
      "metadata": {
        "deletable": false,
        "id": "aPrHlk-fxKLO",
        "nbgrader": {
          "cell_type": "code",
          "checksum": "bf45847fe3042878d7a5943dc3aa2df8",
          "grade": false,
          "grade_id": "cell-0b8d856cc141c2a7",
          "locked": false,
          "schema_version": 3,
          "solution": true,
          "task": false
        },
        "colab": {
          "base_uri": "https://localhost:8080/"
        },
        "outputId": "2a2817e2-172d-44d9-8f2a-58dc84dbaa75"
      },
      "outputs": [
        {
          "output_type": "stream",
          "name": "stdout",
          "text": [
            "The adjusted R^2 is:  0.638\n"
          ]
        }
      ],
      "source": [
        "# Task 3\n",
        "\n",
        "# YOUR CODE HERE\n",
        "adj_R2=.638\n",
        "\n",
        "# Print the adjusted R^2 value\n",
        "print('The adjusted R^2 is: ', adj_R2)"
      ]
    },
    {
      "cell_type": "code",
      "execution_count": 6,
      "metadata": {
        "deletable": false,
        "editable": false,
        "id": "wcS5dUp-xKLP",
        "nbgrader": {
          "cell_type": "code",
          "checksum": "95912fea3cedffb0ffaafacfa45b16a0",
          "grade": true,
          "grade_id": "cell-70088d009573d8ab",
          "locked": true,
          "points": 1,
          "schema_version": 3,
          "solution": false,
          "task": false
        }
      },
      "outputs": [],
      "source": [
        "# Task 3 - Test\n",
        "\n",
        "# Hidden tests - you will see the results when you submit to Canvas"
      ]
    },
    {
      "cell_type": "markdown",
      "metadata": {
        "id": "N2INn9IjpcQv"
      },
      "source": [
        "**Task 4** - Interpret adjusted R-squared\n",
        "\n",
        "Select the correct interpretation of the R-squared value you calculated in Task 3.  Specify your answer in the next code block using `answer = `.  For example, if the correct answer is choice B, you'll type `answer = 'B'`.\n",
        "\n",
        "A: 64% of the variability in head size can be explained by differences in brain weight\n",
        "\n",
        "B: The model is accurate 64% of the time.\n",
        "\n",
        "C: 64% of the variability in brain weight can be explained by differences in head size\n",
        "\n",
        "D: We are 64% confident that we can predict variability in brain weight using differences in head size.\n"
      ]
    },
    {
      "cell_type": "code",
      "execution_count": 8,
      "metadata": {
        "deletable": false,
        "id": "UENkK4C9pcQv",
        "nbgrader": {
          "cell_type": "code",
          "checksum": "966f641c320241a7b60018b2eee4bdf5",
          "grade": false,
          "grade_id": "cell-c02b4f62d01286ac",
          "locked": false,
          "schema_version": 3,
          "solution": true,
          "task": false
        }
      },
      "outputs": [],
      "source": [
        "# Task 4\n",
        "\n",
        "# YOUR CODE HERE\n",
        "answer='C'\n"
      ]
    },
    {
      "cell_type": "markdown",
      "metadata": {
        "id": "tSqVznCtpcQw"
      },
      "source": [
        "**Task 4 Test**"
      ]
    },
    {
      "cell_type": "code",
      "execution_count": 9,
      "metadata": {
        "deletable": false,
        "editable": false,
        "id": "Zuj6te-UpcQw",
        "nbgrader": {
          "cell_type": "code",
          "checksum": "6fa3e36df5933c4210ce08a948a2e3b9",
          "grade": true,
          "grade_id": "cell-3970fbb1a3eaefb5",
          "locked": true,
          "points": 1,
          "schema_version": 3,
          "solution": false,
          "task": false
        }
      },
      "outputs": [],
      "source": [
        "# Task 4 - Test\n",
        "# Hidden tests - you will see the results when you submit to Canvas"
      ]
    },
    {
      "cell_type": "markdown",
      "metadata": {
        "id": "Xj2YmBd_Jl9q"
      },
      "source": [
        "**Task 5** - Encoding new variables\n",
        "\n",
        "From the data dictionary for this data set:\n",
        "\n",
        "Gender\n",
        "* 1 = male\n",
        "* 2 = female\n",
        "\n",
        "Age\n",
        "* 1 = younger than age 46\n",
        "* 2 = age 46 and older\n",
        "\n",
        "Right now age and gender are coded with 1 and 2.  A more conventional way to encode the data for our model would be to subtract \"1\" from Age and Gender so that \"1\" is now coded as \"0\" and \"2\" is now coded as \"1\".  Create two new columns in the DataFrame to do this - don't overwrite the original columns!\n",
        "\n",
        "**Your tasks:**\n",
        "\n",
        "* Create a new Series (column) for age and give it the column name `Age_01`.\n",
        "* Create a new Series (column) for gender and give it the column `Gender_01`."
      ]
    },
    {
      "cell_type": "code",
      "execution_count": 14,
      "metadata": {
        "deletable": false,
        "id": "z9z5i-EaKcj6",
        "nbgrader": {
          "cell_type": "code",
          "checksum": "c2b0791c127934a7ecb3e51fcfced239",
          "grade": false,
          "grade_id": "cell-ad1f0446a3bc99b1",
          "locked": false,
          "schema_version": 3,
          "solution": true,
          "task": false
        },
        "colab": {
          "base_uri": "https://localhost:8080/",
          "height": 206
        },
        "outputId": "1aa5c5f1-70b2-4e9c-beb6-d6e206892c5c"
      },
      "outputs": [
        {
          "output_type": "execute_result",
          "data": {
            "text/plain": [
              "   Gender  Age  Head  Brain  Age_01  Gender_01\n",
              "0       1    1  4512   1530       0          0\n",
              "1       1    1  3738   1297       0          0\n",
              "2       1    1  4261   1335       0          0\n",
              "3       1    1  3777   1282       0          0\n",
              "4       1    1  4177   1590       0          0"
            ],
            "text/html": [
              "\n",
              "  <div id=\"df-de74e204-141e-44e9-8ffc-e3b612bdee41\">\n",
              "    <div class=\"colab-df-container\">\n",
              "      <div>\n",
              "<style scoped>\n",
              "    .dataframe tbody tr th:only-of-type {\n",
              "        vertical-align: middle;\n",
              "    }\n",
              "\n",
              "    .dataframe tbody tr th {\n",
              "        vertical-align: top;\n",
              "    }\n",
              "\n",
              "    .dataframe thead th {\n",
              "        text-align: right;\n",
              "    }\n",
              "</style>\n",
              "<table border=\"1\" class=\"dataframe\">\n",
              "  <thead>\n",
              "    <tr style=\"text-align: right;\">\n",
              "      <th></th>\n",
              "      <th>Gender</th>\n",
              "      <th>Age</th>\n",
              "      <th>Head</th>\n",
              "      <th>Brain</th>\n",
              "      <th>Age_01</th>\n",
              "      <th>Gender_01</th>\n",
              "    </tr>\n",
              "  </thead>\n",
              "  <tbody>\n",
              "    <tr>\n",
              "      <th>0</th>\n",
              "      <td>1</td>\n",
              "      <td>1</td>\n",
              "      <td>4512</td>\n",
              "      <td>1530</td>\n",
              "      <td>0</td>\n",
              "      <td>0</td>\n",
              "    </tr>\n",
              "    <tr>\n",
              "      <th>1</th>\n",
              "      <td>1</td>\n",
              "      <td>1</td>\n",
              "      <td>3738</td>\n",
              "      <td>1297</td>\n",
              "      <td>0</td>\n",
              "      <td>0</td>\n",
              "    </tr>\n",
              "    <tr>\n",
              "      <th>2</th>\n",
              "      <td>1</td>\n",
              "      <td>1</td>\n",
              "      <td>4261</td>\n",
              "      <td>1335</td>\n",
              "      <td>0</td>\n",
              "      <td>0</td>\n",
              "    </tr>\n",
              "    <tr>\n",
              "      <th>3</th>\n",
              "      <td>1</td>\n",
              "      <td>1</td>\n",
              "      <td>3777</td>\n",
              "      <td>1282</td>\n",
              "      <td>0</td>\n",
              "      <td>0</td>\n",
              "    </tr>\n",
              "    <tr>\n",
              "      <th>4</th>\n",
              "      <td>1</td>\n",
              "      <td>1</td>\n",
              "      <td>4177</td>\n",
              "      <td>1590</td>\n",
              "      <td>0</td>\n",
              "      <td>0</td>\n",
              "    </tr>\n",
              "  </tbody>\n",
              "</table>\n",
              "</div>\n",
              "      <button class=\"colab-df-convert\" onclick=\"convertToInteractive('df-de74e204-141e-44e9-8ffc-e3b612bdee41')\"\n",
              "              title=\"Convert this dataframe to an interactive table.\"\n",
              "              style=\"display:none;\">\n",
              "        \n",
              "  <svg xmlns=\"http://www.w3.org/2000/svg\" height=\"24px\"viewBox=\"0 0 24 24\"\n",
              "       width=\"24px\">\n",
              "    <path d=\"M0 0h24v24H0V0z\" fill=\"none\"/>\n",
              "    <path d=\"M18.56 5.44l.94 2.06.94-2.06 2.06-.94-2.06-.94-.94-2.06-.94 2.06-2.06.94zm-11 1L8.5 8.5l.94-2.06 2.06-.94-2.06-.94L8.5 2.5l-.94 2.06-2.06.94zm10 10l.94 2.06.94-2.06 2.06-.94-2.06-.94-.94-2.06-.94 2.06-2.06.94z\"/><path d=\"M17.41 7.96l-1.37-1.37c-.4-.4-.92-.59-1.43-.59-.52 0-1.04.2-1.43.59L10.3 9.45l-7.72 7.72c-.78.78-.78 2.05 0 2.83L4 21.41c.39.39.9.59 1.41.59.51 0 1.02-.2 1.41-.59l7.78-7.78 2.81-2.81c.8-.78.8-2.07 0-2.86zM5.41 20L4 18.59l7.72-7.72 1.47 1.35L5.41 20z\"/>\n",
              "  </svg>\n",
              "      </button>\n",
              "      \n",
              "  <style>\n",
              "    .colab-df-container {\n",
              "      display:flex;\n",
              "      flex-wrap:wrap;\n",
              "      gap: 12px;\n",
              "    }\n",
              "\n",
              "    .colab-df-convert {\n",
              "      background-color: #E8F0FE;\n",
              "      border: none;\n",
              "      border-radius: 50%;\n",
              "      cursor: pointer;\n",
              "      display: none;\n",
              "      fill: #1967D2;\n",
              "      height: 32px;\n",
              "      padding: 0 0 0 0;\n",
              "      width: 32px;\n",
              "    }\n",
              "\n",
              "    .colab-df-convert:hover {\n",
              "      background-color: #E2EBFA;\n",
              "      box-shadow: 0px 1px 2px rgba(60, 64, 67, 0.3), 0px 1px 3px 1px rgba(60, 64, 67, 0.15);\n",
              "      fill: #174EA6;\n",
              "    }\n",
              "\n",
              "    [theme=dark] .colab-df-convert {\n",
              "      background-color: #3B4455;\n",
              "      fill: #D2E3FC;\n",
              "    }\n",
              "\n",
              "    [theme=dark] .colab-df-convert:hover {\n",
              "      background-color: #434B5C;\n",
              "      box-shadow: 0px 1px 3px 1px rgba(0, 0, 0, 0.15);\n",
              "      filter: drop-shadow(0px 1px 2px rgba(0, 0, 0, 0.3));\n",
              "      fill: #FFFFFF;\n",
              "    }\n",
              "  </style>\n",
              "\n",
              "      <script>\n",
              "        const buttonEl =\n",
              "          document.querySelector('#df-de74e204-141e-44e9-8ffc-e3b612bdee41 button.colab-df-convert');\n",
              "        buttonEl.style.display =\n",
              "          google.colab.kernel.accessAllowed ? 'block' : 'none';\n",
              "\n",
              "        async function convertToInteractive(key) {\n",
              "          const element = document.querySelector('#df-de74e204-141e-44e9-8ffc-e3b612bdee41');\n",
              "          const dataTable =\n",
              "            await google.colab.kernel.invokeFunction('convertToInteractive',\n",
              "                                                     [key], {});\n",
              "          if (!dataTable) return;\n",
              "\n",
              "          const docLinkHtml = 'Like what you see? Visit the ' +\n",
              "            '<a target=\"_blank\" href=https://colab.research.google.com/notebooks/data_table.ipynb>data table notebook</a>'\n",
              "            + ' to learn more about interactive tables.';\n",
              "          element.innerHTML = '';\n",
              "          dataTable['output_type'] = 'display_data';\n",
              "          await google.colab.output.renderOutput(dataTable, element);\n",
              "          const docLink = document.createElement('div');\n",
              "          docLink.innerHTML = docLinkHtml;\n",
              "          element.appendChild(docLink);\n",
              "        }\n",
              "      </script>\n",
              "    </div>\n",
              "  </div>\n",
              "  "
            ]
          },
          "metadata": {},
          "execution_count": 14
        }
      ],
      "source": [
        "# Task 5\n",
        "\n",
        "# YOUR CODE HERE\n",
        "df['Age_01']=df['Age']-1\n",
        "df['Gender_01']=df['Gender']-1\n",
        "\n",
        "# View the DataFrame\n",
        "df.head()"
      ]
    },
    {
      "cell_type": "code",
      "execution_count": 15,
      "metadata": {
        "deletable": false,
        "editable": false,
        "id": "EZYTh-kdxKLQ",
        "nbgrader": {
          "cell_type": "code",
          "checksum": "e9af2d4903be0d4eeb6fd0725e4b8ef5",
          "grade": true,
          "grade_id": "cell-84c1602875b4b2fd",
          "locked": true,
          "points": 1,
          "schema_version": 3,
          "solution": false,
          "task": false
        }
      },
      "outputs": [],
      "source": [
        "# Task 4 - Test\n",
        "\n",
        "assert df.shape == (237, 6), 'Did you add two new columns (and only two)?'\n"
      ]
    },
    {
      "cell_type": "markdown",
      "metadata": {
        "id": "DGuhAOmhId9d"
      },
      "source": [
        "**Task 5** - Multiple Regression (adding in \"Age\")\n",
        "\n",
        "We're going to try to improve our model by fitting a model on more than one independent parameter.\n",
        "\n",
        "* Fit a model to Y (brain weight) and X1 and X2 (head size and age group); assign your model to the variable `model_2` (make sure to use `C(Age_01)` for the age variable)\n",
        "\n",
        "*Hint: Enter the model in the format Y ~ X1 + X2*"
      ]
    },
    {
      "cell_type": "code",
      "execution_count": 73,
      "metadata": {
        "deletable": false,
        "id": "d6fY5PSPIuOi",
        "nbgrader": {
          "cell_type": "code",
          "checksum": "7242223fa9de0ce7c7ed035b811deaef",
          "grade": false,
          "grade_id": "cell-f10e617763776ff5",
          "locked": false,
          "schema_version": 3,
          "solution": true,
          "task": false
        },
        "colab": {
          "base_uri": "https://localhost:8080/"
        },
        "outputId": "dfc4878f-23fa-483f-a5e1-7f1f881b2806"
      },
      "outputs": [
        {
          "output_type": "stream",
          "name": "stdout",
          "text": [
            "                            OLS Regression Results                            \n",
            "==============================================================================\n",
            "Dep. Variable:                  Brain   R-squared:                       0.647\n",
            "Model:                            OLS   Adj. R-squared:                  0.644\n",
            "Method:                 Least Squares   F-statistic:                     214.1\n",
            "Date:                Mon, 09 Jan 2023   Prob (F-statistic):           1.38e-53\n",
            "Time:                        05:51:15   Log-Likelihood:                -1347.8\n",
            "No. Observations:                 237   AIC:                             2702.\n",
            "Df Residuals:                     234   BIC:                             2712.\n",
            "Df Model:                           2                                         \n",
            "Covariance Type:            nonrobust                                         \n",
            "==============================================================================\n",
            "                 coef    std err          t      P>|t|      [0.025      0.975]\n",
            "------------------------------------------------------------------------------\n",
            "Intercept    347.5505     47.811      7.269      0.000     253.355     441.746\n",
            "Age_01       -20.7316      9.410     -2.203      0.029     -39.270      -2.193\n",
            "Head           0.2604      0.013     20.229      0.000       0.235       0.286\n",
            "==============================================================================\n",
            "Omnibus:                        7.943   Durbin-Watson:                   1.889\n",
            "Prob(Omnibus):                  0.019   Jarque-Bera (JB):                8.238\n",
            "Skew:                           0.353   Prob(JB):                       0.0163\n",
            "Kurtosis:                       3.579   Cond. No.                     3.75e+04\n",
            "==============================================================================\n",
            "\n",
            "Notes:\n",
            "[1] Standard Errors assume that the covariance matrix of the errors is correctly specified.\n",
            "[2] The condition number is large, 3.75e+04. This might indicate that there are\n",
            "strong multicollinearity or other numerical problems.\n"
          ]
        }
      ],
      "source": [
        "# Task 5\n",
        "\n",
        "# Model input format: Y ~ X1 + X2*\n",
        "\n",
        "# YOUR CODE HERE\n",
        "model_2=ols('Brain~Age_01+Head',data=df).fit()\n",
        "\n",
        "# Print the model summary\n",
        "print(model_2.summary())\n",
        "\n"
      ]
    },
    {
      "cell_type": "code",
      "execution_count": 18,
      "metadata": {
        "deletable": false,
        "editable": false,
        "id": "-xNFIMOQxKLQ",
        "nbgrader": {
          "cell_type": "code",
          "checksum": "5221daa4d20938bddd19b4fbffe3bd8f",
          "grade": true,
          "grade_id": "cell-ba2bb42fefe49970",
          "locked": true,
          "points": 1,
          "schema_version": 3,
          "solution": false,
          "task": false
        }
      },
      "outputs": [],
      "source": [
        "# Task 5 - Test\n",
        "# Hidden tests - you will see the results when you submit to Canvas"
      ]
    },
    {
      "cell_type": "markdown",
      "metadata": {
        "id": "Bq5YE7heKoDo"
      },
      "source": [
        "**Task 6** - Statistical significance\n",
        "\n",
        "* Find the p-value for `Age_01` in your model and assign it to the variable `pval_age` (use three decimal places, e.g. 0.123). Your value should be a float.\n",
        "\n",
        "At the alpha = 0.05 level, is age group statistically significantly associated with brain weight after accounting for head size?  Explain your answer in at least one complete sentence.\n",
        "\n",
        "ANSWER: Yes the pvalue is less than the alpha level of 0.05, so we can reject the null hypothesis and claim that age is statistically significantly associated with brain weight after accounting for head size.\n",
        "\n",
        "At the alpha = 0.01 level, is age group statistically significantly associated with brain weight after accounting for head size? Explain your answer in at least one complete sentence.\n",
        "\n",
        "ANSWER: No the pvalue is greater than the alpha level of 0.01, so we fail to reject the null hypothesis that age or head size are significantly associated with brain weight after accounting for head size at the alpha level of 0.01.\n"
      ]
    },
    {
      "cell_type": "code",
      "execution_count": 19,
      "metadata": {
        "deletable": false,
        "id": "aDKxhiGCxKLR",
        "nbgrader": {
          "cell_type": "code",
          "checksum": "581b72de56062597038ca9723db06224",
          "grade": false,
          "grade_id": "cell-e76b59ebd9a33e39",
          "locked": false,
          "schema_version": 3,
          "solution": true,
          "task": false
        }
      },
      "outputs": [],
      "source": [
        "# Task 6\n",
        "\n",
        "# YOUR CODE HERE\n",
        "pval_age=.029"
      ]
    },
    {
      "cell_type": "code",
      "execution_count": 20,
      "metadata": {
        "deletable": false,
        "editable": false,
        "id": "gKQLOjgIxKLS",
        "nbgrader": {
          "cell_type": "code",
          "checksum": "403cce92142fdf87d7773033bc03050d",
          "grade": true,
          "grade_id": "cell-45d090dbd7235338",
          "locked": true,
          "points": 1,
          "schema_version": 3,
          "solution": false,
          "task": false
        }
      },
      "outputs": [],
      "source": [
        "# Task 6 - Test\n",
        "\n",
        "# Hidden tests - you will see the results when you submit to Canvas"
      ]
    },
    {
      "cell_type": "markdown",
      "metadata": {
        "id": "VAdboVOmLsqR"
      },
      "source": [
        "**Task 7** - Adjusted $R^2$\n",
        "\n",
        "What is the adjusted $R^2$ for the model relating head size and age group to brain weight?  \n",
        "\n",
        "* Assign the adjusted $R^2$ value to `adj_R2_new`. This value should be a float.\n",
        "\n",
        "Does adding age group to the model increase the amount of variability in brain weight explained by the model?\n",
        "\n",
        "ANSWER: Yes slightly"
      ]
    },
    {
      "cell_type": "code",
      "execution_count": 21,
      "metadata": {
        "deletable": false,
        "id": "DhLlb17nxKLS",
        "nbgrader": {
          "cell_type": "code",
          "checksum": "87c9524867994e9e3438ff5c938628cf",
          "grade": false,
          "grade_id": "cell-39e56b2549fd6715",
          "locked": false,
          "schema_version": 3,
          "solution": true,
          "task": false
        },
        "colab": {
          "base_uri": "https://localhost:8080/"
        },
        "outputId": "8b7cd62c-6f27-406f-db64-cbe87718ca06"
      },
      "outputs": [
        {
          "output_type": "stream",
          "name": "stdout",
          "text": [
            "The adjusted R^2 new is:  0.644\n"
          ]
        }
      ],
      "source": [
        "# Task 7\n",
        "\n",
        "# YOUR CODE HERE\n",
        "adj_R2_new=.644\n",
        "\n",
        "# Print the adjusted R^2 new value\n",
        "print('The adjusted R^2 new is: ', adj_R2_new)"
      ]
    },
    {
      "cell_type": "code",
      "execution_count": 22,
      "metadata": {
        "deletable": false,
        "editable": false,
        "id": "sRON8GI9xKLS",
        "nbgrader": {
          "cell_type": "code",
          "checksum": "ac907b8d86db25b6db1b22b1bbf30c3b",
          "grade": true,
          "grade_id": "cell-1cce579f5ceec835",
          "locked": true,
          "points": 1,
          "schema_version": 3,
          "solution": false,
          "task": false
        }
      },
      "outputs": [],
      "source": [
        "# Task 7 - Test\n",
        "\n",
        "# Hidden tests - you will see the results when you submit to Canvas"
      ]
    },
    {
      "cell_type": "markdown",
      "metadata": {
        "id": "Je3yM5G9Mdkx"
      },
      "source": [
        "**Task 8** - Multiple Regression (adding in Gender)\n",
        "\n",
        "We're going to try another multiple regression to improve our model!\n",
        "\n",
        "* Fit a model to Y (brain weight) and X1 and X2 (head size and gender); assign your model to the variable `model_3` (make sure to use `C(Gender_01)` for the age variable).\n",
        "\n",
        "*Hint: Enter the model in the format Y ~ X1 + X2*"
      ]
    },
    {
      "cell_type": "code",
      "execution_count": 74,
      "metadata": {
        "deletable": false,
        "id": "Ii7PVMgJMnNC",
        "nbgrader": {
          "cell_type": "code",
          "checksum": "1ec5cf49f96c26a62fb56604b0bb9d82",
          "grade": false,
          "grade_id": "cell-6e2d7e8b615b59d7",
          "locked": false,
          "schema_version": 3,
          "solution": true,
          "task": false
        },
        "colab": {
          "base_uri": "https://localhost:8080/"
        },
        "outputId": "ecf2d278-fc50-458c-cdd5-16f96c09aa1f"
      },
      "outputs": [
        {
          "output_type": "stream",
          "name": "stdout",
          "text": [
            "                            OLS Regression Results                            \n",
            "==============================================================================\n",
            "Dep. Variable:                  Brain   R-squared:                       0.643\n",
            "Model:                            OLS   Adj. R-squared:                  0.640\n",
            "Method:                 Least Squares   F-statistic:                     211.0\n",
            "Date:                Mon, 09 Jan 2023   Prob (F-statistic):           4.15e-53\n",
            "Time:                        05:52:20   Log-Likelihood:                -1348.9\n",
            "No. Observations:                 237   AIC:                             2704.\n",
            "Df Residuals:                     234   BIC:                             2714.\n",
            "Df Model:                           2                                         \n",
            "Covariance Type:            nonrobust                                         \n",
            "==============================================================================\n",
            "                 coef    std err          t      P>|t|      [0.025      0.975]\n",
            "------------------------------------------------------------------------------\n",
            "Intercept    378.7139     57.299      6.609      0.000     265.825     491.603\n",
            "Gender_01    -17.8615     11.027     -1.620      0.107     -39.586       3.863\n",
            "Head           0.2509      0.015     16.734      0.000       0.221       0.280\n",
            "==============================================================================\n",
            "Omnibus:                        8.109   Durbin-Watson:                   1.858\n",
            "Prob(Omnibus):                  0.017   Jarque-Bera (JB):                8.403\n",
            "Skew:                           0.360   Prob(JB):                       0.0150\n",
            "Kurtosis:                       3.576   Cond. No.                     4.49e+04\n",
            "==============================================================================\n",
            "\n",
            "Notes:\n",
            "[1] Standard Errors assume that the covariance matrix of the errors is correctly specified.\n",
            "[2] The condition number is large, 4.49e+04. This might indicate that there are\n",
            "strong multicollinearity or other numerical problems.\n"
          ]
        }
      ],
      "source": [
        "# Task 8\n",
        "\n",
        "# Model input format: Y ~ X1 + X2*\n",
        "\n",
        "# YOUR CODE HERE\n",
        "model_3=ols('Brain~Gender_01+Head',data=df).fit()\n",
        "\n",
        "# Print the model summary\n",
        "print(model_3.summary())\n"
      ]
    },
    {
      "cell_type": "code",
      "execution_count": 24,
      "metadata": {
        "deletable": false,
        "editable": false,
        "id": "ntDct-DqxKLT",
        "nbgrader": {
          "cell_type": "code",
          "checksum": "ee239f960ee2860a7286511017de7770",
          "grade": true,
          "grade_id": "cell-5e7bef722b7fe2ec",
          "locked": true,
          "points": 1,
          "schema_version": 3,
          "solution": false,
          "task": false
        }
      },
      "outputs": [],
      "source": [
        "# Task 8 - Test\n",
        "# Hidden tests - you will see the results when you submit to Canvas"
      ]
    },
    {
      "cell_type": "markdown",
      "metadata": {
        "id": "tYG00tRDM4E9"
      },
      "source": [
        "**Task 9** - Significance (short answer)\n",
        "\n",
        "At the alpha = 0.05 level, is gender statistically significantly associated with brain weight after accounting for head size?  Explain your answer in at least one complete sentence.\n",
        "\n",
        "ANSWER: Gender is not statistically significantly associated with brain weight after accounting for head size because the pvalue is greater than the alpha level of 0.05"
      ]
    },
    {
      "cell_type": "markdown",
      "metadata": {
        "id": "EmEI47CbC-ld"
      },
      "source": [
        "**Task 10** - Linear model equation (short answer)\n",
        "\n",
        "Write the linear model (insert the coefficients in the correct places) used to model the relationship between head size, age group and predicted brain weight. *Make sure to use the correct model!*\n",
        "\n",
        "EQUATION: y-hat=347.5505+0.2604x+(-20.7316)x"
      ]
    },
    {
      "cell_type": "markdown",
      "metadata": {
        "id": "GI170a6-o6hx"
      },
      "source": [
        "**Task 11** - Create a plot!\n",
        "\n",
        "Plot the relationship between head size and brain weight on a scatterplot. Use different color dots to represent older and younger individuals. You can use `matplotlib` or `seaborn`."
      ]
    },
    {
      "cell_type": "code",
      "execution_count": 55,
      "metadata": {
        "deletable": false,
        "id": "LtYcWjOGAXo3",
        "nbgrader": {
          "cell_type": "code",
          "checksum": "8c3b6fa31cc8859c9b3448ff71034169",
          "grade": false,
          "grade_id": "cell-5fe9394388a9edfb",
          "locked": false,
          "schema_version": 3,
          "solution": true,
          "task": false
        },
        "colab": {
          "base_uri": "https://localhost:8080/",
          "height": 279
        },
        "outputId": "67b6b237-1296-4432-f8a7-f9b381f7eb0c"
      },
      "outputs": [
        {
          "output_type": "display_data",
          "data": {
            "text/plain": [
              "<Figure size 432x288 with 1 Axes>"
            ],
            "image/png": "[encoded data removed]"
          },
          "metadata": {
            "needs_background": "light"
          }
        }
      ],
      "source": [
        "# Task 11\n",
        "\n",
        "# YOUR CODE HERE\n",
        "import seaborn as sns\n",
        "import matplotlib.pyplot as plt\n",
        "sns.scatterplot(x='Head',y='Brain',data=df,ci=None,hue='Age_01',palette='icefire_r');\n"
      ]
    },
    {
      "cell_type": "markdown",
      "metadata": {
        "id": "wqv11_e7S7Ib"
      },
      "source": [
        "**Task 12** - Make predictions\n",
        "\n",
        "Estimate the brain weight of a 60-year-old with a head size of 4000 cubic cm. **Make sure to select the correct model you fit above! Look carefully at the model results so you know what order the model coefficients are given in the output.  It is *different* than the order you entered the terms in the model.**  \n",
        "\n",
        "* assign the age group (either a 0 or 1) to the variable `x1` (integer)\n",
        "* assign the head size to the variable `x2` (integer)\n",
        "* assign the intercept to `intercept` (float)\n",
        "* assign the slope parameter for the age to `slope1` (float)\n",
        "* assign the slope parameter for head size  to `slope2` (float)\n",
        "* assign the prediction to the variable `predicted` (float)"
      ]
    },
    {
      "cell_type": "code",
      "execution_count": 75,
      "metadata": {
        "deletable": false,
        "id": "Az7aXj-N6sW6",
        "nbgrader": {
          "cell_type": "code",
          "checksum": "e8366107a5a02c1a25272e6393b4567e",
          "grade": false,
          "grade_id": "cell-c6a58b3a206a56d1",
          "locked": false,
          "schema_version": 3,
          "solution": true,
          "task": false
        },
        "colab": {
          "base_uri": "https://localhost:8080/"
        },
        "outputId": "e7aa0513-7ed1-440f-a2ed-5eef0a38d999"
      },
      "outputs": [
        {
          "output_type": "stream",
          "name": "stdout",
          "text": [
            "The predicted value for brain size is: 1368.5739217220587\n"
          ]
        }
      ],
      "source": [
        "# Task 12\n",
        "\n",
        "# YOUR CODE HERE\n",
        "x1=1\n",
        "x2=4000\n",
        "intercept, slope1, slope2=model_2.params\n",
        "predicted=intercept+slope1*x1+slope2*x2\n",
        "# Print out variables to troubleshoot!\n",
        "#print('slope 2:', slope1)\n",
        "\n",
        "# View your prediction\n",
        "print('The predicted value for brain size is:', predicted)\n"
      ]
    },
    {
      "cell_type": "code",
      "execution_count": 58,
      "metadata": {
        "deletable": false,
        "editable": false,
        "id": "ePZhMoVzxKLV",
        "nbgrader": {
          "cell_type": "code",
          "checksum": "fb123435fe49633b3d46008f52fc6ce1",
          "grade": true,
          "grade_id": "cell-4d1b9dcc5f82390f",
          "locked": true,
          "points": 1,
          "schema_version": 3,
          "solution": false,
          "task": false
        }
      },
      "outputs": [],
      "source": [
        "# Task 12 - Test\n",
        "# Hidden tests - you will see the results when you submit to Canvas"
      ]
    },
    {
      "cell_type": "markdown",
      "metadata": {
        "id": "-rhf7zmX9g3E"
      },
      "source": [
        "**Task 13** - Make another prediction\n",
        "\n",
        "Estimate the brain weight of a 20-year-old with a head size of 3900 cubic cm. Use the same slope and intercept parameters you used above. But - change your `x1` and `x2` values!\n",
        "\n",
        "* change the values for `x1` and `x2` (both are integers)\n",
        "* assign your prediction to the variable `predicted_2` (float)"
      ]
    },
    {
      "cell_type": "code",
      "execution_count": 76,
      "metadata": {
        "deletable": false,
        "id": "gX01KjaSQxkF",
        "nbgrader": {
          "cell_type": "code",
          "checksum": "04176d0900f45375d7c92d205887a96f",
          "grade": false,
          "grade_id": "cell-0f16313e839553e8",
          "locked": false,
          "schema_version": 3,
          "solution": true,
          "task": false
        },
        "colab": {
          "base_uri": "https://localhost:8080/"
        },
        "outputId": "1d2ff4a7-42cc-4cb9-b8e4-ac025d8beb7e"
      },
      "outputs": [
        {
          "output_type": "stream",
          "name": "stdout",
          "text": [
            "The predicted value for brain size is: 1363.2616897105686\n"
          ]
        }
      ],
      "source": [
        "# Task 13\n",
        "\n",
        "# YOUR CODE HERE\n",
        "x1=0\n",
        "x2=3900\n",
        "predicted_2=intercept+slope1*x1+slope2*x2\n",
        "# View your prediction\n",
        "print('The predicted value for brain size is:', predicted_2)\n"
      ]
    },
    {
      "cell_type": "code",
      "execution_count": 61,
      "metadata": {
        "deletable": false,
        "editable": false,
        "id": "To1R8KhhxKLV",
        "nbgrader": {
          "cell_type": "code",
          "checksum": "98120677d52f1a723a43bdcdb7b21dd7",
          "grade": true,
          "grade_id": "cell-1fdb89f3b3065c29",
          "locked": true,
          "points": 1,
          "schema_version": 3,
          "solution": false,
          "task": false
        }
      },
      "outputs": [],
      "source": [
        "# Task 13 - Test\n",
        "# Hidden tests - you will see the results when you submit to Canvas"
      ]
    },
    {
      "cell_type": "markdown",
      "metadata": {
        "id": "T1TDNIibteov"
      },
      "source": [
        "## Part B\n",
        "\n",
        "### Sleep Data\n",
        "\n",
        "Use the following information to answer the rest of the tasks in this project.\n",
        "\n",
        "Researchers recorded data on sleep duration as well as a set of ecological and constitutional variables  for a selection of mammal species. This data appears in the Sleep.csv dataset. \n",
        "\n",
        "Source: Allison, T. and Cicchetti, D. (1976), \"Sleep in Mammals: Ecological and Constitutional Correlates\",  Science, November 12, vol. 194, pp. 732-734.\n",
        "\n",
        "**Data Dictionary:**\n",
        "\n",
        "| Variable Name |            Description           |                                                                 Details                                                                 |              |   |\n",
        "|:-------------:|:--------------------------------:|:---------------------------------------------------------------------------------------------------------------------------------------:|--------------|---|\n",
        "| Animal        |            Animal name           |                                                            Character [string]                                                           |    |   |\n",
        "| Body          |            Body weight           |                                                               Numeric [kg]                                                              |       |   |\n",
        "| Brain         |           Brain weight           |                                                               Numeric [g]                                                               |  |   |\n",
        "| SWsleep       | Slow wave (“non-dreaming”) sleep | Numeric [hours]                                                                                                                         |              |   |\n",
        "| Parasleep     | Paradoxical (“dreaming”) sleep   | Numeric [hours]                                                                                                                         |              |   |\n",
        "| Totsleep      | Total sleep                      | Numeric [hours]                                                                                                                         |              |   |\n",
        "| Life          | Maximum life expectancy          | Numeric [years]                                                                                                                         |              |   |\n",
        "| Gest          | Gestation time                   | Numeric [days]                                                                                                                          |              |   |\n",
        "| Pred          | Predation index                  | Numeric [1 – 5] 1 = least likely to be preyed upon, 5 = most likely to be preyed upon                                                   |              |   |\n",
        "| Exposure      | Sleep exposure index             | Numeric [1 – 5] 1 = least amount of exposure during sleep (mammal sleeps indoors or in a den), 5 = most amount of exposure during sleep |              |   |\n",
        "| Danger        | Overall danger index             | Numeric [ 1 – 5] 1 = least amount of danger from other animals, 5 = most amount of danger from other animals                            |              |   |\n",
        "\n"
      ]
    },
    {
      "cell_type": "markdown",
      "metadata": {
        "id": "lAGRV2LkuKyw",
        "outputId": "ccabb7fa-9b46-476b-f8e7-f670f7ad3858"
      },
      "source": [
        "**Task 14**\n",
        "\n",
        "Before we can look at the data, we need to load in the data. The URL has been provided.\n",
        "\n",
        "* Load in the CSV file as a DataFrame and assign it to the variable `df_sleep`.\n",
        "* Make sure to view the DataFrame!"
      ]
    },
    {
      "cell_type": "code",
      "execution_count": 62,
      "metadata": {
        "deletable": false,
        "id": "DFlrjGquxKLW",
        "nbgrader": {
          "cell_type": "code",
          "checksum": "4384083bf0047a1d40593ed3c1a1a7bd",
          "grade": false,
          "grade_id": "cell-3a230410ee200f46",
          "locked": false,
          "schema_version": 3,
          "solution": true,
          "task": false
        },
        "colab": {
          "base_uri": "https://localhost:8080/",
          "height": 206
        },
        "outputId": "59ab5d43-709f-4420-cdb8-1c40a8ae3b8b"
      },
      "outputs": [
        {
          "output_type": "execute_result",
          "data": {
            "text/plain": [
              "                      Animal      Body   Brain  SWsleep  Parasleep  Totsleep  \\\n",
              "0  African_giant_pouched_rat     1.000     6.6      6.3        2.0       8.3   \n",
              "1             Asian_elephant  2547.000  4603.0      2.1        1.8       3.9   \n",
              "2                     Baboon    10.550   179.5      9.1        0.7       9.8   \n",
              "3              Big_brown_bat     0.023     0.3     15.8        3.9      19.7   \n",
              "4            Brazilian_tapir   160.000   169.0      5.2        1.0       6.2   \n",
              "\n",
              "   Life   Gest  Pred  Exposure  Danger  \n",
              "0   4.5   42.0     3         1       3  \n",
              "1  69.0  624.0     3         5       4  \n",
              "2  27.0  180.0     4         4       4  \n",
              "3  19.0   35.0     1         1       1  \n",
              "4  30.4  392.0     4         5       4  "
            ],
            "text/html": [
              "\n",
              "  <div id=\"df-95c9c1a4-8fee-43c9-a778-18706925bad0\">\n",
              "    <div class=\"colab-df-container\">\n",
              "      <div>\n",
              "<style scoped>\n",
              "    .dataframe tbody tr th:only-of-type {\n",
              "        vertical-align: middle;\n",
              "    }\n",
              "\n",
              "    .dataframe tbody tr th {\n",
              "        vertical-align: top;\n",
              "    }\n",
              "\n",
              "    .dataframe thead th {\n",
              "        text-align: right;\n",
              "    }\n",
              "</style>\n",
              "<table border=\"1\" class=\"dataframe\">\n",
              "  <thead>\n",
              "    <tr style=\"text-align: right;\">\n",
              "      <th></th>\n",
              "      <th>Animal</th>\n",
              "      <th>Body</th>\n",
              "      <th>Brain</th>\n",
              "      <th>SWsleep</th>\n",
              "      <th>Parasleep</th>\n",
              "      <th>Totsleep</th>\n",
              "      <th>Life</th>\n",
              "      <th>Gest</th>\n",
              "      <th>Pred</th>\n",
              "      <th>Exposure</th>\n",
              "      <th>Danger</th>\n",
              "    </tr>\n",
              "  </thead>\n",
              "  <tbody>\n",
              "    <tr>\n",
              "      <th>0</th>\n",
              "      <td>African_giant_pouched_rat</td>\n",
              "      <td>1.000</td>\n",
              "      <td>6.6</td>\n",
              "      <td>6.3</td>\n",
              "      <td>2.0</td>\n",
              "      <td>8.3</td>\n",
              "      <td>4.5</td>\n",
              "      <td>42.0</td>\n",
              "      <td>3</td>\n",
              "      <td>1</td>\n",
              "      <td>3</td>\n",
              "    </tr>\n",
              "    <tr>\n",
              "      <th>1</th>\n",
              "      <td>Asian_elephant</td>\n",
              "      <td>2547.000</td>\n",
              "      <td>4603.0</td>\n",
              "      <td>2.1</td>\n",
              "      <td>1.8</td>\n",
              "      <td>3.9</td>\n",
              "      <td>69.0</td>\n",
              "      <td>624.0</td>\n",
              "      <td>3</td>\n",
              "      <td>5</td>\n",
              "      <td>4</td>\n",
              "    </tr>\n",
              "    <tr>\n",
              "      <th>2</th>\n",
              "      <td>Baboon</td>\n",
              "      <td>10.550</td>\n",
              "      <td>179.5</td>\n",
              "      <td>9.1</td>\n",
              "      <td>0.7</td>\n",
              "      <td>9.8</td>\n",
              "      <td>27.0</td>\n",
              "      <td>180.0</td>\n",
              "      <td>4</td>\n",
              "      <td>4</td>\n",
              "      <td>4</td>\n",
              "    </tr>\n",
              "    <tr>\n",
              "      <th>3</th>\n",
              "      <td>Big_brown_bat</td>\n",
              "      <td>0.023</td>\n",
              "      <td>0.3</td>\n",
              "      <td>15.8</td>\n",
              "      <td>3.9</td>\n",
              "      <td>19.7</td>\n",
              "      <td>19.0</td>\n",
              "      <td>35.0</td>\n",
              "      <td>1</td>\n",
              "      <td>1</td>\n",
              "      <td>1</td>\n",
              "    </tr>\n",
              "    <tr>\n",
              "      <th>4</th>\n",
              "      <td>Brazilian_tapir</td>\n",
              "      <td>160.000</td>\n",
              "      <td>169.0</td>\n",
              "      <td>5.2</td>\n",
              "      <td>1.0</td>\n",
              "      <td>6.2</td>\n",
              "      <td>30.4</td>\n",
              "      <td>392.0</td>\n",
              "      <td>4</td>\n",
              "      <td>5</td>\n",
              "      <td>4</td>\n",
              "    </tr>\n",
              "  </tbody>\n",
              "</table>\n",
              "</div>\n",
              "      <button class=\"colab-df-convert\" onclick=\"convertToInteractive('df-95c9c1a4-8fee-43c9-a778-18706925bad0')\"\n",
              "              title=\"Convert this dataframe to an interactive table.\"\n",
              "              style=\"display:none;\">\n",
              "        \n",
              "  <svg xmlns=\"http://www.w3.org/2000/svg\" height=\"24px\"viewBox=\"0 0 24 24\"\n",
              "       width=\"24px\">\n",
              "    <path d=\"M0 0h24v24H0V0z\" fill=\"none\"/>\n",
              "    <path d=\"M18.56 5.44l.94 2.06.94-2.06 2.06-.94-2.06-.94-.94-2.06-.94 2.06-2.06.94zm-11 1L8.5 8.5l.94-2.06 2.06-.94-2.06-.94L8.5 2.5l-.94 2.06-2.06.94zm10 10l.94 2.06.94-2.06 2.06-.94-2.06-.94-.94-2.06-.94 2.06-2.06.94z\"/><path d=\"M17.41 7.96l-1.37-1.37c-.4-.4-.92-.59-1.43-.59-.52 0-1.04.2-1.43.59L10.3 9.45l-7.72 7.72c-.78.78-.78 2.05 0 2.83L4 21.41c.39.39.9.59 1.41.59.51 0 1.02-.2 1.41-.59l7.78-7.78 2.81-2.81c.8-.78.8-2.07 0-2.86zM5.41 20L4 18.59l7.72-7.72 1.47 1.35L5.41 20z\"/>\n",
              "  </svg>\n",
              "      </button>\n",
              "      \n",
              "  <style>\n",
              "    .colab-df-container {\n",
              "      display:flex;\n",
              "      flex-wrap:wrap;\n",
              "      gap: 12px;\n",
              "    }\n",
              "\n",
              "    .colab-df-convert {\n",
              "      background-color: #E8F0FE;\n",
              "      border: none;\n",
              "      border-radius: 50%;\n",
              "      cursor: pointer;\n",
              "      display: none;\n",
              "      fill: #1967D2;\n",
              "      height: 32px;\n",
              "      padding: 0 0 0 0;\n",
              "      width: 32px;\n",
              "    }\n",
              "\n",
              "    .colab-df-convert:hover {\n",
              "      background-color: #E2EBFA;\n",
              "      box-shadow: 0px 1px 2px rgba(60, 64, 67, 0.3), 0px 1px 3px 1px rgba(60, 64, 67, 0.15);\n",
              "      fill: #174EA6;\n",
              "    }\n",
              "\n",
              "    [theme=dark] .colab-df-convert {\n",
              "      background-color: #3B4455;\n",
              "      fill: #D2E3FC;\n",
              "    }\n",
              "\n",
              "    [theme=dark] .colab-df-convert:hover {\n",
              "      background-color: #434B5C;\n",
              "      box-shadow: 0px 1px 3px 1px rgba(0, 0, 0, 0.15);\n",
              "      filter: drop-shadow(0px 1px 2px rgba(0, 0, 0, 0.3));\n",
              "      fill: #FFFFFF;\n",
              "    }\n",
              "  </style>\n",
              "\n",
              "      <script>\n",
              "        const buttonEl =\n",
              "          document.querySelector('#df-95c9c1a4-8fee-43c9-a778-18706925bad0 button.colab-df-convert');\n",
              "        buttonEl.style.display =\n",
              "          google.colab.kernel.accessAllowed ? 'block' : 'none';\n",
              "\n",
              "        async function convertToInteractive(key) {\n",
              "          const element = document.querySelector('#df-95c9c1a4-8fee-43c9-a778-18706925bad0');\n",
              "          const dataTable =\n",
              "            await google.colab.kernel.invokeFunction('convertToInteractive',\n",
              "                                                     [key], {});\n",
              "          if (!dataTable) return;\n",
              "\n",
              "          const docLinkHtml = 'Like what you see? Visit the ' +\n",
              "            '<a target=\"_blank\" href=https://colab.research.google.com/notebooks/data_table.ipynb>data table notebook</a>'\n",
              "            + ' to learn more about interactive tables.';\n",
              "          element.innerHTML = '';\n",
              "          dataTable['output_type'] = 'display_data';\n",
              "          await google.colab.output.renderOutput(dataTable, element);\n",
              "          const docLink = document.createElement('div');\n",
              "          docLink.innerHTML = docLinkHtml;\n",
              "          element.appendChild(docLink);\n",
              "        }\n",
              "      </script>\n",
              "    </div>\n",
              "  </div>\n",
              "  "
            ]
          },
          "metadata": {},
          "execution_count": 62
        }
      ],
      "source": [
        "# Task 14\n",
        "\n",
        "# Dataset URL - don't delete!\n",
        "data_url_2 = 'https://raw.githubusercontent.com/bloominstituteoftechnology/data-science-practice-datasets/main/unit_1/Sleep/Sleep.csv'\n",
        "\n",
        "# YOUR CODE HERE\n",
        "df_sleep=pd.read_csv(data_url_2)\n",
        "\n",
        "# Print out your DataFrame\n",
        "df_sleep.head()"
      ]
    },
    {
      "cell_type": "markdown",
      "metadata": {
        "id": "QNcpKKKYfeFj"
      },
      "source": [
        "At the end of the guided project, we'd decided that the best model of dreaming sleep has the two variables gestation time and danger index (Adjusted R-squared about 50%).\n",
        "\n",
        "\n",
        "However, danger index was engineered from both predation index and exposure.  Perhaps one of those features is really more important in predicting dreaming sleep.  Can we improve model fit by replacing danger index with predation index or exposure index?"
      ]
    },
    {
      "cell_type": "markdown",
      "metadata": {
        "id": "XYs1IpYNk8Zw"
      },
      "source": [
        "**Task 15** - Multiple Regression Model\n",
        "\n",
        "Run an OLS model using the log of gestation time and predation index to predict the amount of time spent in dreaming sleep.  Is predation index a better predictor of the amount of time spent in dreaming sleep than danger index?\n",
        "* Fit a model to Y (dreaming sleep) and X1 and X2 (gestational time and predation index); assign your model to the variable `model_sleep1` (make sure to use `C(Pred)` for the predation index variable)\n",
        "* Print the model summary\n",
        "* Examine the adjusted R-squared and compare it to the adjusted R-squared from the model with gestational time and danger index.\n",
        "* Choose the letter of the correct answer from the answer choices listed below and assign that letter to `answer`.  For example, if your answer is choice B, in the solution block you will type `answer = 'B'`.\n",
        "\n",
        "\n",
        "Answer choices:\n",
        "\n",
        "**A:** The adjusted r-squared for the model with predation index is greater than the adjusted r-squared for the model with danger index, therefore predation index is a better predictor of dreaming sleep.\n",
        "\n",
        "**B:** The adjusted r-squared for the model with predation index is less than than the adjusted r-squared for the model with danger index, therefore predation index is a better predictor of dreaming sleep.\n",
        "\n",
        "**C:** The adjusted r-squared for the model with predation index is less than than the adjusted r-squared for the model with danger index, therefore predation index is not as good a predictor of dreaming sleep.\n",
        "\n",
        "**D:** The adjusted r-squared for the model with predation index is greater than than the adjusted r-squared for the model with danger index, therefore predation index is not as good a predictor of dreaming sleep."
      ]
    },
    {
      "cell_type": "code",
      "execution_count": 68,
      "metadata": {
        "deletable": false,
        "id": "t9xM-7Z3xKLY",
        "nbgrader": {
          "cell_type": "code",
          "checksum": "7bfcfe30bf785210f981163406005188",
          "grade": false,
          "grade_id": "cell-1c00b428d5be8030",
          "locked": false,
          "schema_version": 3,
          "solution": true,
          "task": false
        },
        "colab": {
          "base_uri": "https://localhost:8080/"
        },
        "outputId": "5fb36b0f-1549-4502-ed15-3dfc85eb7956"
      },
      "outputs": [
        {
          "output_type": "stream",
          "name": "stdout",
          "text": [
            "                            OLS Regression Results                            \n",
            "==============================================================================\n",
            "Dep. Variable:              Parasleep   R-squared:                       0.448\n",
            "Model:                            OLS   Adj. R-squared:                  0.420\n",
            "Method:                 Least Squares   F-statistic:                     15.85\n",
            "Date:                Mon, 09 Jan 2023   Prob (F-statistic):           9.15e-06\n",
            "Time:                        05:43:01   Log-Likelihood:                -60.389\n",
            "No. Observations:                  42   AIC:                             126.8\n",
            "Df Residuals:                      39   BIC:                             132.0\n",
            "Df Model:                           2                                         \n",
            "Covariance Type:            nonrobust                                         \n",
            "==============================================================================\n",
            "                 coef    std err          t      P>|t|      [0.025      0.975]\n",
            "------------------------------------------------------------------------------\n",
            "Intercept      5.9844      0.753      7.951      0.000       4.462       7.507\n",
            "log_gest      -0.7076      0.156     -4.529      0.000      -1.024      -0.392\n",
            "Pred          -0.3349      0.115     -2.923      0.006      -0.567      -0.103\n",
            "==============================================================================\n",
            "Omnibus:                        6.145   Durbin-Watson:                   1.937\n",
            "Prob(Omnibus):                  0.046   Jarque-Bera (JB):                6.905\n",
            "Skew:                           0.367   Prob(JB):                       0.0317\n",
            "Kurtosis:                       4.846   Cond. No.                         25.9\n",
            "==============================================================================\n",
            "\n",
            "Notes:\n",
            "[1] Standard Errors assume that the covariance matrix of the errors is correctly specified.\n",
            "                            OLS Regression Results                            \n",
            "==============================================================================\n",
            "Dep. Variable:              Parasleep   R-squared:                       0.500\n",
            "Model:                            OLS   Adj. R-squared:                  0.474\n",
            "Method:                 Least Squares   F-statistic:                     19.48\n",
            "Date:                Mon, 09 Jan 2023   Prob (F-statistic):           1.36e-06\n",
            "Time:                        05:43:01   Log-Likelihood:                -58.337\n",
            "No. Observations:                  42   AIC:                             122.7\n",
            "Df Residuals:                      39   BIC:                             127.9\n",
            "Df Model:                           2                                         \n",
            "Covariance Type:            nonrobust                                         \n",
            "==============================================================================\n",
            "                 coef    std err          t      P>|t|      [0.025      0.975]\n",
            "------------------------------------------------------------------------------\n",
            "Intercept      5.5768      0.676      8.255      0.000       4.210       6.943\n",
            "log_gest      -0.5719      0.156     -3.669      0.001      -0.887      -0.257\n",
            "Danger        -0.4368      0.119     -3.664      0.001      -0.678      -0.196\n",
            "==============================================================================\n",
            "Omnibus:                        5.864   Durbin-Watson:                   2.022\n",
            "Prob(Omnibus):                  0.053   Jarque-Bera (JB):                6.219\n",
            "Skew:                           0.374   Prob(JB):                       0.0446\n",
            "Kurtosis:                       4.731   Cond. No.                         23.9\n",
            "==============================================================================\n",
            "\n",
            "Notes:\n",
            "[1] Standard Errors assume that the covariance matrix of the errors is correctly specified.\n"
          ]
        }
      ],
      "source": [
        "# Task 15\n",
        "# complete the log of gestational time - DO NOT DELETE\n",
        "\n",
        "import numpy as np\n",
        "log_gest = np.log(df_sleep['Gest'])\n",
        "\n",
        "\n",
        "# YOUR CODE HERE\n",
        "model_sleep1=ols('Parasleep~log_gest+Pred',data=df_sleep).fit()\n",
        "print(model_sleep1.summary())\n",
        "\n",
        "model_sleep2=ols('Parasleep~log_gest+Danger',data=df_sleep).fit()\n",
        "print(model_sleep2.summary())\n",
        "\n",
        "answer='C'\n"
      ]
    },
    {
      "cell_type": "code",
      "execution_count": 69,
      "metadata": {
        "deletable": false,
        "editable": false,
        "id": "hvrMEfiPEUlx",
        "nbgrader": {
          "cell_type": "code",
          "checksum": "889a2b5c94b0f38b5c88601332b6cadf",
          "grade": true,
          "grade_id": "cell-1161a4fd34666d28",
          "locked": true,
          "points": 1,
          "schema_version": 3,
          "solution": false,
          "task": false
        }
      },
      "outputs": [],
      "source": [
        "# Task 15 - Test\n",
        "# Hidden tests - you will see the results when you submit to Canvas"
      ]
    },
    {
      "cell_type": "markdown",
      "metadata": {
        "id": "bce2Pv8RE3u2"
      },
      "source": [
        "**Task 16** - Multiple Regression Model\n",
        "\n",
        "Run an OLS model using the log of gestation time and exposure index to predict the amount of time spent in dreaming sleep.  Is exposure index a better predictor of amount of time spent in dreaming sleep than danger index?\n",
        "* Fit a model to Y (dreaming sleep) and X1 and X2 (gestational time and exposure index); assign your model to the variable `model_sleep2` (make sure to use `C(Exposure)` for the exposure index variable)\n",
        "* Print the model summary\n",
        "* Examine the adjusted R-quared and compare it to the adjusted R-squared from the model with gestational time and danger index.\n",
        "* Choose the letter of the correct answer from the answer choices listed below and assign that letter to `answer`.  For example, if your answer is choice B, in the solution block you will type `answer = 'B'`.\n",
        "\n",
        "\n",
        "Answer choices:\n",
        "\n",
        "**A:** The adjusted r-squared for the model with exposure index is greater than the adjusted r-squared for the model with danger index, therefore exposure index is a better predictor of dreaming sleep.\n",
        "\n",
        "**B:** The adjusted r-squared for the model with exposure index is less than than the adjusted r-squared for the model with danger index, therefore exposure index is a better predictor of dreaming sleep.\n",
        "\n",
        "**C:** The adjusted r-squared for the model with exposure index is less than than the adjusted r-squared for the model with danger index, therefore exposure index is not as good a predictor of dreaming sleep.\n",
        "\n",
        "**D:** The adjusted r-squared for the model with exposure index is greater than than the adjusted r-squared for the model with danger index, therefore exposure index is not as good a predictor of dreaming sleep."
      ]
    },
    {
      "cell_type": "code",
      "execution_count": 71,
      "metadata": {
        "deletable": false,
        "id": "2gWcjeocGVpR",
        "nbgrader": {
          "cell_type": "code",
          "checksum": "ae7d1504ab176727a49fd1fdd1e05675",
          "grade": false,
          "grade_id": "cell-2e14151d6dcd21d2",
          "locked": false,
          "schema_version": 3,
          "solution": true,
          "task": false
        },
        "colab": {
          "base_uri": "https://localhost:8080/"
        },
        "outputId": "d3d3e193-0b5e-4f3a-b889-86eae1e80c97"
      },
      "outputs": [
        {
          "output_type": "stream",
          "name": "stdout",
          "text": [
            "                            OLS Regression Results                            \n",
            "==============================================================================\n",
            "Dep. Variable:              Parasleep   R-squared:                       0.500\n",
            "Model:                            OLS   Adj. R-squared:                  0.474\n",
            "Method:                 Least Squares   F-statistic:                     19.48\n",
            "Date:                Mon, 09 Jan 2023   Prob (F-statistic):           1.36e-06\n",
            "Time:                        05:45:47   Log-Likelihood:                -58.337\n",
            "No. Observations:                  42   AIC:                             122.7\n",
            "Df Residuals:                      39   BIC:                             127.9\n",
            "Df Model:                           2                                         \n",
            "Covariance Type:            nonrobust                                         \n",
            "==============================================================================\n",
            "                 coef    std err          t      P>|t|      [0.025      0.975]\n",
            "------------------------------------------------------------------------------\n",
            "Intercept      5.5768      0.676      8.255      0.000       4.210       6.943\n",
            "log_gest      -0.5719      0.156     -3.669      0.001      -0.887      -0.257\n",
            "Danger        -0.4368      0.119     -3.664      0.001      -0.678      -0.196\n",
            "==============================================================================\n",
            "Omnibus:                        5.864   Durbin-Watson:                   2.022\n",
            "Prob(Omnibus):                  0.053   Jarque-Bera (JB):                6.219\n",
            "Skew:                           0.374   Prob(JB):                       0.0446\n",
            "Kurtosis:                       4.731   Cond. No.                         23.9\n",
            "==============================================================================\n",
            "\n",
            "Notes:\n",
            "[1] Standard Errors assume that the covariance matrix of the errors is correctly specified.\n",
            "                            OLS Regression Results                            \n",
            "==============================================================================\n",
            "Dep. Variable:              Parasleep   R-squared:                       0.371\n",
            "Model:                            OLS   Adj. R-squared:                  0.339\n",
            "Method:                 Least Squares   F-statistic:                     11.52\n",
            "Date:                Mon, 09 Jan 2023   Prob (F-statistic):           0.000117\n",
            "Time:                        05:45:47   Log-Likelihood:                -63.137\n",
            "No. Observations:                  42   AIC:                             132.3\n",
            "Df Residuals:                      39   BIC:                             137.5\n",
            "Df Model:                           2                                         \n",
            "Covariance Type:            nonrobust                                         \n",
            "==============================================================================\n",
            "                 coef    std err          t      P>|t|      [0.025      0.975]\n",
            "------------------------------------------------------------------------------\n",
            "Intercept      4.8688      0.770      6.321      0.000       3.311       6.427\n",
            "log_gest      -0.5525      0.204     -2.702      0.010      -0.966      -0.139\n",
            "Exposure      -0.2341      0.142     -1.647      0.108      -0.522       0.053\n",
            "==============================================================================\n",
            "Omnibus:                        7.542   Durbin-Watson:                   2.007\n",
            "Prob(Omnibus):                  0.023   Jarque-Bera (JB):                6.738\n",
            "Skew:                           0.711   Prob(JB):                       0.0344\n",
            "Kurtosis:                       4.353   Cond. No.                         24.0\n",
            "==============================================================================\n",
            "\n",
            "Notes:\n",
            "[1] Standard Errors assume that the covariance matrix of the errors is correctly specified.\n"
          ]
        }
      ],
      "source": [
        "# Task 16\n",
        "\n",
        "# YOUR CODE HERE\n",
        "print(model_sleep2.summary())\n",
        "model_sleep3=ols('Parasleep~log_gest+Exposure',data=df_sleep).fit()\n",
        "print(model_sleep3.summary())\n",
        "\n",
        "answer='C'\n",
        "\n"
      ]
    },
    {
      "cell_type": "code",
      "execution_count": 72,
      "metadata": {
        "deletable": false,
        "editable": false,
        "id": "Ehw7vT-CGgZM",
        "nbgrader": {
          "cell_type": "code",
          "checksum": "b9a500062ca2654deb07652038189619",
          "grade": true,
          "grade_id": "cell-7636eb3cff27dfd9",
          "locked": true,
          "points": 1,
          "schema_version": 3,
          "solution": false,
          "task": false
        }
      },
      "outputs": [],
      "source": [
        "# Task 16 - Test\n",
        "# Hidden tests - you will see the results when you submit to Canvas"
      ]
    }
  ],
  "metadata": {
    "colab": {
      "provenance": []
    },
    "kernelspec": {
      "display_name": "Python 3",
      "language": "python",
      "name": "python3"
    },
    "language_info": {
      "codemirror_mode": {
        "name": "ipython",
        "version": 3
      },
      "file_extension": ".py",
      "mimetype": "text/x-python",
      "name": "python",
      "nbconvert_exporter": "python",
      "pygments_lexer": "ipython3",
      "version": "3.8.8"
    }
  },
  "nbformat": 4,
  "nbformat_minor": 0
}